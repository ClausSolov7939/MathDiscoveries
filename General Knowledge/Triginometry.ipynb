{
 "cells": [
  {
   "cell_type": "markdown",
   "metadata": {},
   "source": [
    "\n",
    "| $\\alpha$         | $0$ | $\\dfrac{\\pi}{12}$          | $\\dfrac{\\pi}{6}$ | $\\dfrac{\\pi}{4}$  | $\\dfrac{\\pi}{3}$  | $\\dfrac{5\\pi}{12}$         | $\\dfrac{\\pi}{2}$ |\n",
    "| ---------------- | --- | -------------------------- | ---------------- | ----------------- | ----------------- | -------------------------- | ---------------- |\n",
    "| $\\sin{(\\alpha)}$ | $0$ | $\\dfrac{\\sqrt6-\\sqrt2}{4}$ | $\\dfrac12$       | $\\dfrac{\\sqrt2}2$ | $\\dfrac{\\sqrt3}2$ | $\\dfrac{\\sqrt6+\\sqrt2}{4}$ | $1$              |\n",
    "\n",
    "$\\dfrac{\\sqrt6\\pm\\sqrt2}{4}=\\dfrac{\\sqrt2}{2}\\left(\\dfrac{\\sqrt3}{2}\\pm\\dfrac{1}{2}\\right)$\n",
    "\n",
    "\n"
   ]
  }
 ],
 "metadata": {
  "language_info": {
   "name": "python"
  }
 },
 "nbformat": 4,
 "nbformat_minor": 2
}
