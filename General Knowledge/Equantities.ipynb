{
 "cells": [
  {
   "cell_type": "markdown",
   "metadata": {},
   "source": [
    "Таблица эквивалентностей (бесконечных малых функций) $\\boxed{g(x)\\to0}$\n",
    "\n",
    "| $\\sin(g(x))\\sim g(x)$ | $\\arcsin(g(x))\\sim g(x)$ |\n",
    "| ---- | ---- |\n",
    "| $\\tan(g(x))\\sim g(x)$ | $\\arcsin(g(x))\\sim g(x)$ |\n",
    "| $1-\\cos\\left(g(x)\\right)\\sim\\dfrac{g^2(x)}{2}$ | $\\cos(g(x))\\sim 1-\\dfrac{g^{2}(x)}{2}$ |\n",
    "| $\\ln{(1+g(x))}\\sim g(x)$ | $e^{g(x)}-1\\sim g(x)$ |\n",
    "| $\\log_{a}(1+g(x))\\sim\\dfrac{g(x)}{\\ln{a}}$ | $a^{g(x)}-1\\sim g(x)$ |\n",
    "| $(x+1)^{m}-1\\sim mx$ |  |\n"
   ]
  }
 ],
 "metadata": {
  "language_info": {
   "name": "python"
  }
 },
 "nbformat": 4,
 "nbformat_minor": 2
}
