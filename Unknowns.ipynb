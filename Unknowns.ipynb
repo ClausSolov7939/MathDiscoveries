{
 "cells": [
  {
   "cell_type": "markdown",
   "metadata": {},
   "source": [
    "$$\n",
    "\\dfrac{g(x)\\to0}{f(x)\\to0}=\n",
    "\\left[\n",
    "\\begin{array}{l}\n",
    "\\to0,&g(x)<f(x)\\\\\n",
    "\\to\\infty,&g(x)>f(x)\\\\\n",
    "\\to C, &g(x)=f(x)\n",
    "\\end{array}\\right.\n",
    "$$\n",
    "Аналогично с $\\dfrac{\\infty}{\\infty}$, $\\dfrac{0}{0}$ и $\\infty\\cdot0$\n",
    "\n",
    "---\n",
    "$$\n",
    "\\infty-\\infty=f(x)-g(x)=\\left[\n",
    "\\begin{array}{l}\n",
    "\\to+\\infty,&f(x)>g(x)\\\\\n",
    "0, &f(x)=g(x)\\\\\n",
    "\\to-\\infty,&f(x)<g(x)\n",
    "\\end{array}\\right.\n",
    "$$\n",
    "---\n",
    "\n",
    "Вопрос к \n",
    "- $0^{0}=1$\n",
    "- $\\infty^{0}=1$\n",
    "- $1^{\\infty}=1$\n",
    "\n",
    "|          | 0            | 1                   | $\\infty$                 |\n",
    "| -------- | ------------ | ------------------- | ------------------------ |\n",
    "| 0        | $0^{0}=1$      | $0^{1}=0$             | $0^{\\infty}=0$           |\n",
    "| 1        | $1^{0}=1$   | $1^{1}=1$           | $1^{\\infty}=1$             |\n",
    "| $\\infty$ | $\\infty^{0}=1$ | $\\infty^{1}=\\infty$ | $\\infty^{\\infty}=\\infty$ |\n",
    "\n",
    "$16=2^{4}=1\\cdot2\\cdot2\\cdot2\\cdot2 \\text{ (4 times multiply by 2)}$\n",
    "$8=4\\cdot2=0+2+2+2+2\\text{ (4 times addition by 2)}$\n",
    "\n",
    "$1\\cdot2=0+2\\text{ (1 time addition by 2)}\\to1\\cdot a=a$\n",
    "$0\\cdot2=0\\text{ (0 times addition by 2)}\\to0\\cdot a=0$\n",
    "\n",
    "$2^{1}=1\\cdot2\\text{ (1 time mutiply by 2)}\\to a^{1}=a$\n",
    "$2^{0}=1\\text{ (0 times multiply by 2)}\\to a^{0}=1$\n",
    "\n",
    "$1\\cdot1=0+1=1 \\text{ (1 time addition by 1)}$\n",
    "$1^{1}=1\\cdot1=1\\text{(1 time mulitply by 1)}$\n",
    "\n",
    "$1^{\\infty}=1\\cdot1\\cdot1\\dots =1\\text{ (infinite time multiply by 1)}$\n",
    "\n"
   ]
  }
 ],
 "metadata": {
  "language_info": {
   "name": "python"
  }
 },
 "nbformat": 4,
 "nbformat_minor": 2
}
