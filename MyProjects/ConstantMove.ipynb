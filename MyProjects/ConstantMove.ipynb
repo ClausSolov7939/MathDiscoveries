{
 "cells": [
  {
   "cell_type": "markdown",
   "metadata": {},
   "source": [
    "\n",
    "# Задача:\n",
    "Дана парабола $f(x)=Ax^{2}+Bx+C$, по которой дискретно двигается объект с шагом $S$.\n",
    "\n",
    "Вычислить функцию изменения по оси $X$ - $\\Delta{x}(S, x_{0})$, где $S$ - шаг, $x_{0}$ - изначальная позиция\n",
    "\n",
    "# Решение:\n",
    "\n",
    "Применим теорему Пифагора:\n",
    "$$\n",
    "S^{2}=\\Delta x^{2}+\\Delta f^{2}\n",
    "$$\n",
    "---\n",
    "$$\\small\n",
    "\\begin{array}{l}\n",
    "S^{2}=\\Delta x^{2}+(f(x_{0}+\\Delta x)-f(x_{0}))^{2}\\\\ \\hline \n",
    "S^{2}=\\Delta x^{2}+(A(x_{0}+\\Delta x)^{2}+B(x_{0}+\\Delta x)+C-(Ax_{0}+Bx_{0}+C))\\\\\n",
    "S^{2}=\\Delta x^{2}+(A(2x_{0}\\cdot \\Delta x+\\Delta x^{2})+B\\Delta x)^{2}\\\\\n",
    "S^{2}=\\Delta x^{2}+\\Delta x^{2}(A(2x_{0}+\\Delta x)+B)^{2}\\\\\n",
    "S^{2}=\\Delta x^{2}[(A(2x_{0}+\\Delta x)+B)^{2}+1]\\\\\\hline\n",
    "A^{2}\\cdot\\Delta x^{4}+(4A^{4}x_{0}+2AB)\\Delta x^{3}+((2Ax_{0}+B)^{2}+1)\\Delta x-S=0\n",
    "\\end{array}\n",
    "$$\n",
    "\n",
    "# Более простое решение\n",
    "\n",
    "\n",
    "Пусть функция $L(t)=\\begin{pmatrix}L_{x}(t)\\\\L_{y}(t)\\end{pmatrix}$ описывает кривую на плоскости.\n",
    "Тогда равномерное движение по кривой с шагом $S$ можно описать в виде изменения параметра $t=t_{0}+\\Delta t$:\n",
    "\n",
    "$\\Delta t=\\dfrac{S}{\\|L'(t)\\|}=\\dfrac{S}{\\sqrt{(L_{x}'(t))^{2}+(L_{y}'(t))^{2}}}$\n",
    "\n"
   ]
  }
 ],
 "metadata": {
  "language_info": {
   "name": "python"
  }
 },
 "nbformat": 4,
 "nbformat_minor": 2
}
