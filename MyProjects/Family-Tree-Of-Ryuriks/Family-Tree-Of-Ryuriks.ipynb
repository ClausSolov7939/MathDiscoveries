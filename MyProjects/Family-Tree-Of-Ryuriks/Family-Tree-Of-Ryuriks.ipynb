{
 "cells": [
  {
   "cell_type": "markdown",
   "metadata": {},
   "source": [
    "# Описание\n",
    "\n",
    "Проходя по ссылкам абзацев \"Дети\" на страница Wikipedia, рекурсивно создается генеалогическое дерево, начиная с Рюрика. \n",
    "\n",
    "\tНа данный момент существовало и существует примерно 45 поколений, порожденные от Рюрика"
   ]
  },
  {
   "cell_type": "code",
   "execution_count": 3,
   "metadata": {},
   "outputs": [],
   "source": [
    "from bs4 import BeautifulSoup\n",
    "import requests\n",
    "\n",
    "url_list=[]\n",
    "\n",
    "def find_in_file(url):\n",
    " f=open(filen, \"r\")\n",
    " for i in f:\n",
    "  if url in i:\n",
    "  # print(\"YES\")\n",
    "   f.close()\n",
    "   return False\n",
    " f.close()\n",
    " return True\n",
    "\n",
    "def print_tree(filename,url, tabs=0):\n",
    " res = requests.get(url)\n",
    " soup = BeautifulSoup(res.text, 'html.parser')\n",
    " item=soup.find_all(\"tbody\")[0].find_all(\"tr\")\n",
    " name=soup.find(\"h1\").text\n",
    " f=open(filename, \"a\")\n",
    " f.write(\"#\"+\"-\"*tabs+\"#\\t\"+name+\"\\t\"+url+\"\\n\")\n",
    " f.close()\n",
    "\n",
    " url_list.append(url)\n",
    "\n",
    " for i in item:\n",
    "  #print(i)\n",
    "  if \"Дети\" in i.text:\n",
    "   for j in i.find_all(\"a\"):\n",
    "    if \"/w/\" not in j[\"href\"]:\n",
    "     if len(j[\"href\"][6:])>4 and \"https://ru.wikipedia.org\"+j[\"href\"] not in url_list:\n",
    "      #try:\n",
    "      print_tree(filename, \"https://ru.wikipedia.org\"+j[\"href\"], tabs+1)\n",
    "      #except Exception as e:\n",
    "      # print(e)\n",
    "    else:\n",
    "     f=open(filename, \"a\")\n",
    "     f.write(\"#\"+\"-\"*(tabs+1)+\"#\\t\"+j.text+\"\\n\")\n",
    "     f.close()\n",
    "    # print(\"does\")\n",
    "     break\n",
    "   break\n",
    "  \n",
    " #print(\"Done\")\n",
    "filename=\"people_list.txt\"\n",
    "f=open(filename,\"w\")\n",
    "f.close()\n",
    "\n",
    "#url=\"https://ru.wikipedia.org/wiki/Рюрик\"\n",
    "url=\"https://ru.wikipedia.org/wiki/Михаил_II_Травл\"\n",
    "#try:\n",
    "print_tree(filename, url, 6)\n",
    "#except Exception as e:\n",
    "# ferror=open(\"error.txt\", \"w\")\n",
    "# ferror.write(str(e))\n",
    "# ferror.close()\n"
   ]
  }
 ],
 "metadata": {
  "kernelspec": {
   "display_name": "Python 3",
   "language": "python",
   "name": "python3"
  },
  "language_info": {
   "codemirror_mode": {
    "name": "ipython",
    "version": 3
   },
   "file_extension": ".py",
   "mimetype": "text/x-python",
   "name": "python",
   "nbconvert_exporter": "python",
   "pygments_lexer": "ipython3",
   "version": "3.12.3"
  }
 },
 "nbformat": 4,
 "nbformat_minor": 2
}
