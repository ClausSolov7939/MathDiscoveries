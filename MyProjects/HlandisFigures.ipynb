{
 "cells": [
  {
   "cell_type": "markdown",
   "metadata": {},
   "source": [
    "# Описание\n",
    "\n",
    "Попытка создания программы, которая умеет рисовать [фигуры Хланди](https://en.wikipedia.org/wiki/Ernst_Chladni#Chladni_figures)"
   ]
  },
  {
   "cell_type": "code",
   "execution_count": 1,
   "metadata": {},
   "outputs": [
    {
     "name": "stdout",
     "output_type": "stream",
     "text": [
      "pygame 2.5.2 (SDL 2.28.3, Python 3.12.3)\n",
      "Hello from the pygame community. https://www.pygame.org/contribute.html\n"
     ]
    }
   ],
   "source": [
    "import pygame\n",
    "# from math import csc\n",
    "from math import sin, cos, pi,tan\n",
    "from random import randint\n",
    "\n",
    "root=pygame.display.set_mode((1000,1000))\n",
    "clock=pygame.time.Clock()\n",
    "game=True\n",
    "\n",
    "def draw_line(surface,freq, x1, y1, length, angle):\n",
    "\n",
    "\n",
    "    #vec=pygame.Vector2(0,length)\n",
    "\n",
    "    #vec.rotate_ip(angle)\n",
    "    #print(vec)\n",
    "    #x2=round(vec.x)\n",
    "    #y2=round(vec.y)\n",
    "\n",
    "    x2,y2 = round(x1 + length*cos(angle*pi/180)),round(y1 + length*sin(angle*pi/180))\n",
    "    #print((x1,y1),(x2,y2))\n",
    "\n",
    "\n",
    "    delta_x = abs(x2 - x1)\n",
    "    delta_y = abs(y2 - y1)\n",
    "    \n",
    "    if x1 < x2:\n",
    "        sign_x = 1\n",
    "    else:\n",
    "        sign_x = -1\n",
    "        \n",
    "    if y1 < y2:\n",
    "        sign_y = 1\n",
    "    else:\n",
    "        sign_y = -1\n",
    "    \n",
    "    error = delta_x - delta_y\n",
    "    tick=0\n",
    "    while (x1 != x2 or y1 != y2):\n",
    "        #c=csc(x1*freq)%256\n",
    "        c=128+sin(tick/(freq))*128\n",
    "        #print((x1,y1),(x2,y2))\n",
    "        #c=255\n",
    "        pygame.draw.rect(surface,(c,c,c),(x1, y1,1,1))\n",
    "        error_2 = error * 2\n",
    "        \n",
    "        if error_2 > -delta_y: \n",
    "            error -= delta_y\n",
    "            x1 += sign_x\n",
    "            #x+=sign_x\n",
    "        \n",
    "        if error_2 < delta_x:\n",
    "            error += delta_x\n",
    "            y1 += sign_y\n",
    "        tick+=1\n",
    "                \n",
    "#while True:\n",
    "root.fill((0,0,0))\n",
    "i=0\n",
    "while game:\n",
    "    for event in pygame.event.get():\n",
    "        if event.type==pygame.QUIT: game=False\n",
    "    keys=pygame.key.get_pressed()\n",
    "    keys = pygame.key.get_pressed()\n",
    "    if keys[pygame.K_ESCAPE]: game=False\n",
    "\n",
    "    #print(i)\n",
    "    draw_line(root,1+i*0.001,root.get_width()//2,root.get_height()//2,500,i)\n",
    "    i+=1\n",
    "#    draw_line(root,i,root.get_width()//2,root.get_height()//2,500,90)\n",
    "#    draw_line(root,i,root.get_width()//2,root.get_height()//2,500,270)\n",
    "    #print(i)\n",
    "    pygame.display.update()\n",
    "    \n",
    "    #clock.tick(100)\n",
    "pygame.quit()"
   ]
  }
 ],
 "metadata": {
  "kernelspec": {
   "display_name": "Python 3",
   "language": "python",
   "name": "python3"
  },
  "language_info": {
   "codemirror_mode": {
    "name": "ipython",
    "version": 3
   },
   "file_extension": ".py",
   "mimetype": "text/x-python",
   "name": "python",
   "nbconvert_exporter": "python",
   "pygments_lexer": "ipython3",
   "version": "3.12.3"
  }
 },
 "nbformat": 4,
 "nbformat_minor": 2
}
