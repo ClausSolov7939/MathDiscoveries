{
 "cells": [
  {
   "cell_type": "markdown",
   "metadata": {},
   "source": [
    "$$\n",
    "\\sum\\limits_{n=1}^{\\infty}{\\dfrac{7}{n+4}}\n",
    "$$\n",
    "Возьмем за эталон\n",
    "$$\n",
    "\\lim_{n\\to\\infty}{\\dfrac{\\dfrac{7}{n+4}}{\\dfrac{1}{n}}}=\\lim_{n\\to\\infty}{\\dfrac{7n}{n+4}}=7\n",
    "$$\n",
    "По второму признаку ряд сходится\n",
    "\n",
    "---\n",
    "$$\n",
    "\\sum\\limits_{n=1}^{\\infty}{\\dfrac{(n+1)!}{3^{n}}}\n",
    "$$\n",
    "$$\n",
    "\\lim_{n\\to\\infty}{\\dfrac{(n+2)!\\cdot3^n}{(n+1)!\\cdot3^{n+1}}}=\\lim_{n\\to\\infty}{\\dfrac{(n+2)}{3}}=\\infty\n",
    "$$\n",
    "По признаку Даламбера ряд расходится\n"
   ]
  },
  {
   "cell_type": "markdown",
   "metadata": {},
   "source": [
    "Movies (Games):\n",
    "- Graphics\n",
    "\t- Language undependent\n",
    "\t- Language dependent\n",
    "- Audio\n",
    "\t- SFX\n",
    "\t- Music\n",
    "\t- Voices\n",
    "\t\t- Original\n",
    "\t\t- Other Languages\n",
    "- Subtitle\n",
    "\t- Languages\n",
    "\t\t- Original\n",
    "\t\t- Other languages\n",
    "\t- Mode\n",
    "\t\t- SFX\n",
    "\t\t- Voices\n",
    "\n",
    "Song:\n",
    "- Music Composition (w/ channel separation)\n",
    "- Voice Record\n",
    "\n",
    "Book:\n",
    "- Imahes\n"
   ]
  },
  {
   "cell_type": "markdown",
   "metadata": {},
   "source": [
    "$$\n",
    "\\begin{array}{l}\n",
    "(a-b)(c-d)=ac-ad-bc+bd\\\\\n",
    "(a-b)(c-d)=bd(a^{*}-1)(c^{*}-1)=\\\\\n",
    "bd(a^{*}c^{*}-a^{*}-c^{*}+1)\n",
    "\\end{array}\n",
    "$$"
   ]
  },
  {
   "cell_type": "markdown",
   "metadata": {},
   "source": [
    "\n",
    "\n",
    "- Instructions (Цель + Инструкции)\n",
    "\t- files pdf, txt, etc.\n",
    "- Resources (Ресурсы)\n",
    "\t- Text?\n",
    "\t\t- Markdown\n",
    "\t- Image\n",
    "\t\t- PNG, JPG, etc.\n",
    "\t- Video\n",
    "\t\t- GIF, MP4, MKV, AVI, etc.\n",
    "- Project files (with linking to program) \\[Программы-сборщики\\]\n",
    "\t- Office Files (Document, Spreadsheet, Powerpoint)\n",
    "\t- Program Project Files (IDEA Projects)\n",
    "- OUT (Result File/(Files as Archive))\n",
    "\t"
   ]
  }
 ],
 "metadata": {
  "language_info": {
   "name": "python"
  }
 },
 "nbformat": 4,
 "nbformat_minor": 2
}
