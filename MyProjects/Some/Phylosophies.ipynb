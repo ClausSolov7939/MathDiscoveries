{
 "cells": [
  {
   "cell_type": "markdown",
   "metadata": {},
   "source": [
    "- Стратегические\n",
    "- Без Gain to Win **?**\n",
    "\t- Без Pay to Win\n",
    "- Без шаблонов (always random)\n",
    "- Соревновательные **?**\n",
    "- С сюжетом **?**\n",
    "- Без опоры на физические действия:\n",
    "\t- Без реакции\n",
    "---\n",
    "Игрок, попадая в случайные условия или условия, которые меняются постоянно, должен уметь выбирать выигрышные пути. - Стратегия\n",
    "- Chess, Backgammon, Ludo"
   ]
  },
  {
   "cell_type": "markdown",
   "metadata": {},
   "source": [
    "# its hard to begin\n",
    "Everything what you've done extra is pointless\n",
    "But everything you've done for work is senseful\n",
    "\n",
    "---\n",
    "**The biggest problem is to begin**\n",
    "\n",
    "To begin learn something new, to start to get interested in some subject.\n",
    "\n",
    "It will good if just begin to work on it.\n",
    "Invest, think, writing etc. And only after that you'll get full speed.\n",
    "\n",
    "Just start it...\n",
    "It's hard for real...\n",
    "But always after good work you will get **cuddles**.\n",
    "\n",
    "---\n",
    "**Dopamine:** create, not consume.\n",
    "Create, sort, archive, automate, planning."
   ]
  },
  {
   "cell_type": "markdown",
   "metadata": {},
   "source": [
    "# question\n",
    "\n",
    "Text+Music+Theatre - let your mind create world now you see them\n",
    "\n",
    "**Image** makes them instead of you.\n",
    "\n",
    "You need to live in your world. \n",
    "The world which is not that fun as you want to be.\n",
    "\n",
    "But there is a moment. And you can change it for yourself of for everyone. You live with people who also want fun and love. **Then lets make fun and love together**.\n",
    "\n",
    "But it will not that easy. But we should be stronger to changes and stay still for our life and peace.\n",
    "\n",
    "**Lies should be punished, Truth should be revealed**\n",
    "\n",
    "There is one structure of life exists, where everyone could live without afraid. But we must work together. And together make out peace and love for each of us.\n",
    "\n",
    "We need to rely on science about ourselves. And we still need learn about us. This the only way to make structure of rules, which have their axioms and theorems, whice have all questions answered.\n",
    "\n",
    "---\n",
    "I don't need other realities\n",
    "I want mine but better for everyone.\n",
    "**Death has never been and will never been way**\n",
    "\n",
    "**Everybody must live as long as possible**\n",
    "\n",
    "There shouldn't been wars, executions, killers and so on...\n",
    "And any problem shouldn't been solved by wars, executions, killers and so on...\n",
    "\n",
    "So what are we should do now? About wars, executions, killers and so on? Ungroup and isolate.\n",
    "\n",
    "---\n",
    "Don't lie to yourself\n",
    "Don't lie to anyone\n",
    "Then if you cant lie, you should be the best\n"
   ]
  },
  {
   "cell_type": "markdown",
   "metadata": {},
   "source": [
    "# Unnamed\n",
    "Музыка:\n",
    " - Сохранить альбом \n",
    "\t - Хранение в памяти\n",
    "\t - Автоматическая сортировка\n",
    " - "
   ]
  },
  {
   "cell_type": "markdown",
   "metadata": {},
   "source": [
    "# Иерархия файлов\n",
    "\n",
    "> Какие папки будут использованы?\n",
    "\n",
    "- Загрузки (пониженная )\n",
    "\t- Сохраненные недавно загруженные файлы\n",
    "- Документы (повышенная )\n",
    "\t- Главная директория для хранения\n",
    "\t\t- Установщиков программ\n",
    "\t\t- Резервное копирование\n",
    "\t\t- Важной информации\n",
    "\t\t- Проектов\n",
    "\t\t- Знаний\n",
    "\t\t- Набросков\n",
    "- Музыка (пониженная )\n",
    "\t- Для хранения музыки"
   ]
  },
  {
   "cell_type": "markdown",
   "metadata": {},
   "source": [
    "# Не рисуй\n",
    "\n",
    "Любой рисунок может быть только альтернативной реальностью, которой не существует.\n",
    "\n",
    "**Текст** (речь) является *ограничителем* для передачи информации.\n",
    "\n",
    "Сколько не пытайся человеку текстом (речью) описать альтернативный мир, все равно его воображение будет ограничено лишь **зрительной памятью**.\n",
    "\n",
    "Если попробовать объяснить, как выглядит, к примеру, HuggieWaggie, человеку, которому неизвестно при него ничего, его фантазия не позволит его воссоздать подлинно.\n",
    "\n",
    "С описанием: \n",
    "- тело как у человека, только руки и ноги длиннее\n",
    "- кожа покрыта синим мехом\n",
    "- с широкой красной улыбкой и т.д.\n",
    "Все равно некоторые детали будут не раскрыты.\n",
    "$$\n",
    "\\lim\\limits_{t\\to\\infty}{(\\text{объяснение}(t))}=\\text{смысл}<\\text{подлинный смысл}\n",
    "$$\n",
    "\n",
    "В этом методе есть свои плюсы и минусы.\n",
    "\n",
    "Плюс в том, что у любого человека, не знающего, сложится картина ...\n",
    "\n",
    "Фотографии - одни из главных источников познания мира.\n",
    "\n",
    "Но как ни крути, выдуманные истории остаются, песни о великом и невеликом несуществующем событии все равно будет создаваться. \n",
    "\n",
    "Но с другой стороны, без выдуманный вещей, мы бы ничем не отличались по разуму от животных или роботов. "
   ]
  },
  {
   "cell_type": "markdown",
   "metadata": {},
   "source": [
    "# Философия Персонального Компьютера\n",
    "## Новые аспекты\n",
    "\n",
    "1. Любое **устройство общее**, личное только **хранилище личных данных**\n",
    "\n",
    "\n",
    "## Моменты\n",
    "\n",
    "Для человека от компьютера нужны только:\n",
    "- Личные данные для обработки\n",
    "- Программы для обработки\n",
    "- Графическое представление и темы\n",
    "\n",
    "Эти данные хранятся в **личном хранилище** защищенный паролем\n",
    "\n"
   ]
  },
  {
   "cell_type": "code",
   "execution_count": null,
   "metadata": {},
   "outputs": [],
   "source": []
  }
 ],
 "metadata": {
  "language_info": {
   "name": "python"
  }
 },
 "nbformat": 4,
 "nbformat_minor": 2
}
