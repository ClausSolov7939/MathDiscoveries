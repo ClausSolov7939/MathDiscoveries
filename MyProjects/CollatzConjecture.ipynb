{
 "cells": [
  {
   "cell_type": "markdown",
   "metadata": {},
   "source": [
    "$$\n",
    "d_{t+1}=\\begin{cases} \\dfrac{d_{t}}{2},\\; d_{t}\\bmod2=0\\\\\\;\\\\ \\dfrac{3\\cdot d_{t}+1}{2},\\; d_{t}\\bmod2\\ne0 \\end{cases}\n",
    "$$\n",
    "\n",
    "$$\n",
    "{3(2n+1)+1}={6n+4}=2(3n+2)\n",
    "$$\n",
    "\n",
    "| n                 | 0   | 1   | 2   | 3   |\n",
    "| ----------------- | --- | --- | --- | --- |\n",
    "| $d$ - нечет       | 1   | x   | x   | x   |\n",
    "| $2d$              | 0   | 1   | x   | x   |\n",
    "| $3d=2d+d$         | 1   | y   | y   | y   |\n",
    "| $\\dfrac{3d}{2}$   | y   | y   | y   | y   |\n",
    "| $\\dfrac{3d}{2}+1$ | z   | z   | z   | z   |\n",
    "| $3d+1$            | 0   | z   | z   | z   |\n",
    "| $\\dfrac{3d+1}{2}$ | z   | z   | z   | z   |\n",
    "\n",
    "$$\n",
    "\\dfrac{3(2n+1)}{2}+1=\\dfrac{6n+5}{2}=3n+2+\\frac{1}{2}\n",
    "$$\n",
    "При $d$ - нечетном и делении нацело: $\\dfrac{3d+1}{2}\\sim\\dfrac{3d}{2}+1=\\dfrac{d}{2}+d+1$\n",
    "\n",
    "```verilog\n",
    "module collatz(\n",
    " input [16:0] d,\n",
    " output [32:0] res\n",
    ");\n",
    " assign res = (d >> 1) + ((d[0]==1) ? (d + 1) : 0);\n",
    "endmodule\n",
    "```"
   ]
  },
  {
   "cell_type": "markdown",
   "metadata": {},
   "source": [
    "Функция, определяющая максимальное деление на 2.\n",
    "\n",
    "$$\n",
    "\\text{lgm}(n\\cdot2^k)=k\n",
    "$$\n",
    "\n",
    "Пока это математически не представимо, но представимо с помощью Приоритетного шифратора\n",
    "\n"
   ]
  },
  {
   "cell_type": "markdown",
   "metadata": {},
   "source": [
    "```verilog\n",
    "module CollatzFunc #(\n",
    "    WIDTH = 8,\n",
    "    localparam ENC_WIDTH = $clog2(WIDTH))(\n",
    "    input [WIDTH-1:0] dataIn,\n",
    "    output [WIDTH-1:0] dataOut,\n",
    "    output error\n",
    ");\n",
    "    wire [WIDTH-1:0] preResult;\n",
    "    assign preResult = (dataIn >> 1) + ((dataIn[0])? (dataIn+1):0);  \n",
    "\n",
    "    reg [ENC_WIDTH-1:0] encs;\n",
    "    integer n, flag;\n",
    "    always @(preResult)begin\n",
    "        encs = 0;\n",
    "        flag = 0;\n",
    "        for(n = 0; n <= WIDTH-1; n = n + 1)\n",
    "            if(preResult[n] & ~flag) begin\n",
    "                encs = n;\n",
    "                flag = 1;\n",
    "            end\n",
    "    end\n",
    "\n",
    "    assign error = preResult == 0;\n",
    "    assign dataOut = preResult >> encs;    \n",
    "    \n",
    "endmodule\n",
    "```"
   ]
  },
  {
   "cell_type": "code",
   "execution_count": 1,
   "metadata": {},
   "outputs": [
    {
     "name": "stdout",
     "output_type": "stream",
     "text": [
      "pygame 2.5.2 (SDL 2.28.3, Python 3.12.3)\n",
      "Hello from the pygame community. https://www.pygame.org/contribute.html\n"
     ]
    }
   ],
   "source": [
    "import pygame\n",
    "from random import randint\n",
    "\n",
    "ScreenRes=(1024,512)\n",
    "\n",
    "root=pygame.display.set_mode(ScreenRes)\n",
    "clock=pygame.time.Clock()\n",
    "game=True\n",
    "\n",
    "root.fill((0,0,0))\n",
    "\n",
    "#f=open(\"prime.txt\", \"r\")\n",
    "i=1\n",
    "game=True\n",
    "step=10\n",
    "while game:\n",
    "    for event in pygame.event.get():\n",
    "        if event.type==pygame.QUIT: game=False\n",
    "    keys = pygame.key.get_pressed()\n",
    "    if keys[pygame.K_ESCAPE]: game=False\n",
    "\n",
    "#    root.fill((0,0,0))\n",
    "\n",
    "    n=i\n",
    "    arr=[n]\n",
    "    count=0\n",
    "    pos=(count,ScreenRes[1]-n//4)\n",
    "    \n",
    "    c=(randint(16,255),randint(16,255), randint(16,255))\n",
    "    while n!=1:\n",
    "        #print(n)\n",
    "        if n%2==0: n//=2\n",
    "        else:\n",
    "            n=(3*n+1)//2\n",
    "            while n%2==0: n//=2\n",
    "        arr.append(n)\n",
    "        count+=1\n",
    "        pygame.draw.line(root,c,pos,(count*step,ScreenRes[1]-n//10))\n",
    "        pygame.draw.rect(root,c,(count*step,ScreenRes[1]-n//10,1,1))\n",
    "        pos=(count*step,ScreenRes[1]-n//10)\n",
    "    i+=2\n",
    "    pygame.display.update()\n",
    "\n",
    "    \n",
    "    clock.tick(20)\n",
    "pygame.quit()"
   ]
  }
 ],
 "metadata": {
  "kernelspec": {
   "display_name": "Python 3",
   "language": "python",
   "name": "python3"
  },
  "language_info": {
   "codemirror_mode": {
    "name": "ipython",
    "version": 3
   },
   "file_extension": ".py",
   "mimetype": "text/x-python",
   "name": "python",
   "nbconvert_exporter": "python",
   "pygments_lexer": "ipython3",
   "version": "3.12.3"
  }
 },
 "nbformat": 4,
 "nbformat_minor": 2
}
