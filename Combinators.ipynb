{
 "cells": [
  {
   "cell_type": "markdown",
   "metadata": {},
   "source": [
    "$$\n",
    "S(m,n)=\\dfrac{n!}{m!(n-m)!2^{n}}\n",
    "$$\n",
    "\n",
    "$$\\Large\n",
    "C_{n}^{k}=\\dfrac{n!}{k!(n-k)!}=\\prod_{i=1}^{n-k}{\\dfrac{k+i}{i}}=\n",
    "\\prod\\limits_{i=1}^{k}{\\dfrac{n+1-i}{i}}\n",
    "$$\n",
    "\n",
    "$$\\Large\n",
    "A_{n}^{k}=\\dfrac{n!}{(n-k)!}=\\prod\\limits_{i=(n-k+1)}^{n}{i}\n",
    "$$\n",
    "$$\\Large\n",
    "P_{n}=n!=\\prod_{i=1}^{n}{i}\n",
    "$$\n"
   ]
  }
 ],
 "metadata": {
  "language_info": {
   "name": "python"
  }
 },
 "nbformat": 4,
 "nbformat_minor": 2
}
