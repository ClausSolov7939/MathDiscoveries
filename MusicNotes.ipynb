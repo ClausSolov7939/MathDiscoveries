{
 "cells": [
  {
   "cell_type": "markdown",
   "metadata": {},
   "source": [
    "$$\n",
    "\\begin{array}{l}\n",
    "1\\to2\\\\\n",
    "1\\to\\dfrac32\\to2\\\\\n",
    "1\\to\\dfrac43\\to\\dfrac53\\to2\\\\\n",
    "1\\to\\dfrac54\\to\\dfrac32\\to2\\\\\n",
    "1\\to\\dfrac65\\to\\dfrac55\\to2\\\\\n",
    "1\\to\\dfrac76\\to\\dfrac56\\to2\\\\\n",
    "\\dots\\\\\n",
    "1\\to\\dfrac{13}{12}\\to\\dfrac{7}{6}\\to\\dfrac{5}{4}\\to\\dfrac{4}{3}\\to\\dfrac{17}{12}\\to\\dfrac{3}{2}\\to\\dfrac{19}{12}\\to\\dfrac{5}{3}\\to\\dfrac{7}{4}\\to\\dfrac{11}{6}\\to\\dfrac{23}{12}\\to2\n",
    "\\end{array}\n",
    "$$\n",
    "2,3,4, \n",
    "5,7,11, 13, 17, 19\n"
   ]
  }
 ],
 "metadata": {
  "language_info": {
   "name": "python"
  }
 },
 "nbformat": 4,
 "nbformat_minor": 2
}
