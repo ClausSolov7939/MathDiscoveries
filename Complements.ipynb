{
 "cells": [
  {
   "cell_type": "markdown",
   "metadata": {},
   "source": [
    "\n",
    "$$\\Large\n",
    "\\begin{array}{l}\n",
    "\\exists a_{n}=\\{a_{1}, a_{2},\\dots a_{n}\\}\\\\\n",
    "A=\\sum\\limits\\limits_{i=1}^{n}{a_{i}}=a_{1}+a_{2}+\\dots+a_{n}\\\\\n",
    "B=\\prod\\limits\\limits_{i=1}^{n}{a_{i}}=a_{1}\\cdot a_{2}\\cdot \\dots \\cdot a_{n}\\\\\n",
    "a_{k}^{\\ast}=\\prod\\limits_{i=1}^{k-1}{a_{i}}\\cdot\\prod\\limits_{i=k+1}^{n}{a_{i}}=\\dfrac{B}{a_{k}}\\\\\n",
    "C=\\sum\\limits_{i=1}^{n}{a_{i}^{\\ast}}=\\sum\\limits_{i=1}^{n}{\\dfrac{B}{a_{i}}}=B\\cdot E\\\\\n",
    "D=\\prod\\limits_{i=1}^{n}{a_{i}^{\\ast}}=\\prod\\limits_{i=1}^{n}{\\dfrac{B}{a_{i}}}=\\dfrac{B^{n}}{B}=B^{n-1}\\\\\n",
    "E=\\sum\\limits_{i=1}^{n}{a_{i}^{-1}}=\\sum\\limits_{i=1}^{n}{\\dfrac{1}{a_{i}}}=\\\\\n",
    "=\\dfrac{1}{a_{1}}+\\dfrac{1}{a_{2}}+\\dfrac{1}{a_{3}}+\\dots\\dfrac{1}{a_{n}}=\\\\\n",
    "=\\dfrac{a_{2}a_{3}\\dots a_{n}+a_{1}a_{3}\\dots a_{n}+\\dots}{a_{1}a_{2}a_{3}\\dots a_{n}}=\\\\\n",
    "\\dfrac{a_{1}^{\\ast}+a_{2}^{\\ast}+\\dots+a_{n}^{\\ast}}{B}=\\dfrac{C}{B}\n",
    "\\end{array}\n",
    "$$\n",
    "\n"
   ]
  }
 ],
 "metadata": {
  "language_info": {
   "name": "python"
  }
 },
 "nbformat": 4,
 "nbformat_minor": 2
}
