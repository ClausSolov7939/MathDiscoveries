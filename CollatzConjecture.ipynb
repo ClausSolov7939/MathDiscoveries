{
 "cells": [
  {
   "cell_type": "markdown",
   "metadata": {},
   "source": [
    "$$\n",
    "d_{t+1}=\\begin{cases} \\dfrac{d_{t}}{2},\\; d_{t}\\bmod2=0\\\\\\;\\\\ \\dfrac{3\\cdot d_{t}+1}{2},\\; d_{t}\\bmod2\\ne0 \\end{cases}\n",
    "$$\n",
    "\n",
    "$$\n",
    "{3(2n+1)+1}={6n+4}=2(3n+2)\n",
    "$$\n",
    "\n",
    "| n                 | 0   | 1   | 2   | 3   |\n",
    "| ----------------- | --- | --- | --- | --- |\n",
    "| $d$ - нечет       | 1   | x   | x   | x   |\n",
    "| $2d$              | 0   | 1   | x   | x   |\n",
    "| $3d=2d+d$         | 1   | y   | y   | y   |\n",
    "| $\\dfrac{3d}{2}$   | y   | y   | y   | y   |\n",
    "| $\\dfrac{3d}{2}+1$ | z   | z   | z   | z   |\n",
    "| $3d+1$            | 0   | z   | z   | z   |\n",
    "| $\\dfrac{3d+1}{2}$ | z   | z   | z   | z   |\n",
    "\n",
    "$$\n",
    "\\dfrac{3(2n+1)}{2}+1=\\dfrac{6n+5}{2}=3n+2+\\frac{1}{2}\n",
    "$$\n",
    "При $d$ - нечетном и делении нацело: $\\dfrac{3d+1}{2}\\sim\\dfrac{3d}{2}+1=\\dfrac{d}{2}+d+1$\n",
    "\n",
    "```verilog\n",
    "module collatz(\n",
    " input [16:0] d,\n",
    " output [32:0] res\n",
    ");\n",
    " assign res = (d >> 1) + ((d[0]==1) ? (d + 1) : 0);\n",
    "endmodule\n",
    "```"
   ]
  }
 ],
 "metadata": {
  "language_info": {
   "name": "python"
  }
 },
 "nbformat": 4,
 "nbformat_minor": 2
}
