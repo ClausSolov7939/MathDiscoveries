{
 "cells": [
  {
   "cell_type": "markdown",
   "metadata": {
    "vscode": {
     "languageId": "bat"
    }
   },
   "source": [
    "# Кривая Безье $n$-ого порядка\n",
    "\n",
    "$$\\Large\n",
    "B(t)=\\sum\\limits_{k=1}^{n}{\\binom{n}{k}\\cdot A[k]\\cdot (1-t)^{n-k}\\cdot t^{k}}\n",
    "$$\n",
    "# Формула сердца\n",
    "$$\\Large\n",
    "\\frac{2}{3}x^{2}+\\left(y-\\sqrt{\\left|\\frac{x}{2}\\right|}\\right)^2\\le1\n",
    "$$\n",
    "# Mystery\n",
    "\n",
    "$$\\Large\n",
    "\\frac{1}{x!(-x)!}=\\frac{\\sin{(\\pi x)}}{\\pi x}\n",
    "$$\n",
    "\n",
    "# Fourier's Chain\n",
    "\n",
    "$$\\Large\n",
    "\\begin{array}{l}\n",
    "X(t)=\\sum\\limits_{n=1}^{k}{L_{x}[n]\\cdot\\cos{(F_{x}[n]\\cdot t+K[n]+K_x[n])}}\\\\\n",
    "Y(t)=\\sum\\limits_{n=1}^{k}{L_{y}[n]\\cdot\\sin{(F_{y}[n]\\cdot t+K[n]+K_y[n])}}\\\\\n",
    "\\end{array}\n",
    "$$"
   ]
  }
 ],
 "metadata": {
  "language_info": {
   "name": "python"
  }
 },
 "nbformat": 4,
 "nbformat_minor": 2
}
