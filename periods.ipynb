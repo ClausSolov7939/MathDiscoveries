{
 "cells": [
  {
   "cell_type": "markdown",
   "metadata": {},
   "source": [
    "# Выражение чисел с периодом\n",
    "$$\\LARGE\n",
    "\\begin{array}{l}\n",
    "x=0.(9)=0.999999...\\\\\n",
    "10x=9.(9)=9.999999...\\\\\n",
    "9x=9\\to x=1\n",
    "\\end{array}\n",
    "$$\n",
    "$$\\LARGE\n",
    "\\begin{array}{l}\n",
    "x=9\\cdot\\sum\\limits_{n\\to1}^{\\infty}{10^{-n}}=\n",
    "9\\cdot\\sum\\limits_{n\\to1}^{\\infty}{\\left(\\dfrac{1}{10}\\right)^{n}}=9\\cdot\\dfrac{\\frac{1}{10}}{1-\\frac{1}{10}}=1\n",
    "\\end{array}\n",
    "$$\n",
    "$$\\LARGE\n",
    "\\begin{array}{l}\n",
    "0.(1)=\\dfrac{\\frac{1}{10}}{1-\\frac{1}{10}}=\\dfrac{1}{9}\\\\\n",
    "\\end{array}\n",
    "$$\n",
    "$$\\LARGE\n",
    "x=0.(1234)\\to10000x=1234.(1234)\\to x=\\dfrac{1234}{9999}\n",
    "$$\n"
   ]
  }
 ],
 "metadata": {
  "language_info": {
   "name": "python"
  }
 },
 "nbformat": 4,
 "nbformat_minor": 2
}
