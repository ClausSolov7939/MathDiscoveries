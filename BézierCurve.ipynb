{
 "cells": [
  {
   "cell_type": "markdown",
   "metadata": {},
   "source": [
    "# Общая формула\n",
    "$$\n",
    "B_{n}(t)=\\sum\\limits_{k=0}^{n}{C^{k}_{n}\\cdot(1-t)^{n-k}\\cdot t^{k}\\cdot P_{k}}\n",
    "$$\n",
    "где $P_{k}$ - значение одной координаты точки $k$, $t\\in[0,1]$\n",
    "\n",
    "$$\n",
    "B_{2}(t)=P_{1}(1-t)^{2}+P_{2}\\cdot2\\cdot(1-t)t+P_{3}\\cdot t^{2}\n",
    "$$"
   ]
  }
 ],
 "metadata": {
  "language_info": {
   "name": "python"
  }
 },
 "nbformat": 4,
 "nbformat_minor": 2
}
